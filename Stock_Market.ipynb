{
  "nbformat": 4,
  "nbformat_minor": 0,
  "metadata": {
    "colab": {
      "name": "Stock_Market.ipynb",
      "provenance": [],
      "authorship_tag": "ABX9TyPQH/XwEsooX8AdpYmFEJQ0",
      "include_colab_link": true
    },
    "kernelspec": {
      "name": "python3",
      "display_name": "Python 3"
    },
    "language_info": {
      "name": "python"
    }
  },
  "cells": [
    {
      "cell_type": "markdown",
      "metadata": {
        "id": "view-in-github",
        "colab_type": "text"
      },
      "source": [
        "<a href=\"https://colab.research.google.com/github/sharmaweb/Machine-Learnig-and-Data-Science/blob/main/Stock_Market.ipynb\" target=\"_parent\"><img src=\"https://colab.research.google.com/assets/colab-badge.svg\" alt=\"Open In Colab\"/></a>"
      ]
    },
    {
      "cell_type": "code",
      "metadata": {
        "id": "c_BIGil7sRQj"
      },
      "source": [
        "import math\n",
        "import pandas_datareader as web\n",
        "import numpy as np\n",
        "import pandas as pd\n",
        "from datetime import datetime\n",
        "\n",
        "from sklearn.preprocessing import MinMaxScaler\n",
        "from keras.models import Sequential\n",
        "from keras.layers import Dense, LSTM\n",
        "import matplotlib.pyplot as plt\n",
        "plt.style.use('fivethirtyeight')\n",
        "\n"
      ],
      "execution_count": null,
      "outputs": []
    },
    {
      "cell_type": "code",
      "metadata": {
        "id": "axJdjyv8scTx"
      },
      "source": [
        "#reading data from web\n",
        "df = web.DataReader(\"AAPL\", \"yahoo\", start=datetime(2012, 1, 1),\n",
        "                     end=datetime(2020, 12, 17))\n",
        "df"
      ],
      "execution_count": null,
      "outputs": []
    },
    {
      "cell_type": "code",
      "metadata": {
        "id": "mpRQDfGYwZ9o"
      },
      "source": [
        "#Get the dimensions of the data\n",
        "df.shape"
      ],
      "execution_count": null,
      "outputs": []
    },
    {
      "cell_type": "code",
      "metadata": {
        "id": "wM4xFwIpwg65"
      },
      "source": [
        "#plot the graph of closing price history\n",
        "plt.figure(figsize=(16,8))\n",
        "plt.title('Closing')\n",
        "plt.plot(df['Close'])\n",
        "plt.xlabel('Date')\n",
        "plt.ylabel('Price of stock USD($)')\n",
        "plt.show()"
      ],
      "execution_count": null,
      "outputs": []
    },
    {
      "cell_type": "code",
      "metadata": {
        "colab": {
          "base_uri": "https://localhost:8080/"
        },
        "id": "8ERcQdePzpoq",
        "outputId": "36b7da3d-e748-41e4-c426-c23d4534c918"
      },
      "source": [
        "#create a new dataset with only close column\n",
        "data=df.filter(['Close'])\n",
        "#Convert the dataset into a numpy array\n",
        "dataset=data.values\n",
        "#Get the number of rows to train \n",
        "train_rows_number= math.ceil(len(dataset)* 0.8) #Since we will use 80% of the data for training\n",
        "train_rows_number\n",
        "dataset\n"
      ],
      "execution_count": null,
      "outputs": [
        {
          "output_type": "execute_result",
          "data": {
            "text/plain": [
              "array([[ 14.6867857 ],\n",
              "       [ 14.76571369],\n",
              "       [ 14.92964268],\n",
              "       ...,\n",
              "       [127.87999725],\n",
              "       [127.80999756],\n",
              "       [128.69999695]])"
            ]
          },
          "metadata": {
            "tags": []
          },
          "execution_count": 25
        }
      ]
    },
    {
      "cell_type": "code",
      "metadata": {
        "colab": {
          "base_uri": "https://localhost:8080/"
        },
        "id": "phzLOm4k1Cet",
        "outputId": "13d3424d-1bce-4355-80d2-49d110971ff9"
      },
      "source": [
        "#Scale the data\n",
        "scaler=MinMaxScaler(feature_range=(0,1))\n",
        "scaled_data=scaler.fit_transform(dataset)\n",
        "scaled_data"
      ],
      "execution_count": null,
      "outputs": [
        {
          "output_type": "execute_result",
          "data": {
            "text/plain": [
              "array([[0.0061488 ],\n",
              "       [0.00680526],\n",
              "       [0.00816869],\n",
              "       ...,\n",
              "       [0.94760156],\n",
              "       [0.94701935],\n",
              "       [0.95442167]])"
            ]
          },
          "metadata": {
            "tags": []
          },
          "execution_count": 26
        }
      ]
    },
    {
      "cell_type": "code",
      "metadata": {
        "id": "2cSthk-PLejI"
      },
      "source": [
        "#Create a training data set\n",
        "#Create the scaled training data set\n",
        "train_data=scaled_data[0:train_rows_number, :]\n",
        "#Split the data into x_train and y_train data sets\n",
        "x_train=[]\n",
        "y_train=[]\n",
        "\n",
        "for i in range(60,len(train_data)):\n",
        "  x_train.append(train_data[i-60:i,0])\n",
        "  y_train.append(train_data[i, 0])\n",
        "  #Every 60th value is stored in y_train"
      ],
      "execution_count": null,
      "outputs": []
    },
    {
      "cell_type": "code",
      "metadata": {
        "id": "wUt-SEGPNHvd"
      },
      "source": [
        "#Convet the x_train and y_train into nparrys\n",
        "x_train=np.array(x_train)\n",
        "y_train=np.array(y_train)"
      ],
      "execution_count": null,
      "outputs": []
    },
    {
      "cell_type": "code",
      "metadata": {
        "colab": {
          "base_uri": "https://localhost:8080/"
        },
        "id": "_fwnQ3siNIFK",
        "outputId": "60db767f-d635-41d1-95b2-2799ae37b2f6"
      },
      "source": [
        "#Since the LSTM mode expects a three dimensional input we are going to reshape the data\n",
        "x_train=np.reshape(x_train,(x_train.shape[0],x_train.shape[1],1))\n",
        "x_train.shape"
      ],
      "execution_count": null,
      "outputs": [
        {
          "output_type": "execute_result",
          "data": {
            "text/plain": [
              "(1745, 60, 1)"
            ]
          },
          "metadata": {
            "tags": []
          },
          "execution_count": 29
        }
      ]
    },
    {
      "cell_type": "code",
      "metadata": {
        "id": "7BOoyWKCN0jO"
      },
      "source": [
        "#Bulid the model\n",
        "model=Sequential()\n",
        "model.add(LSTM(50,return_sequences=True, input_shape=(x_train.shape[1], 1) )) # return_sequence is true because we are going to add more LSTM layes , input shape is (60,1) see the above cell \n",
        "model.add(LSTM(50, return_sequences=False)) #return_sequence is false because we are not going to add any more LSTM layers ... input_shape is specified only in first layer\n",
        "model.add(Dense(25))\n",
        "model.add(Dense(1))"
      ],
      "execution_count": null,
      "outputs": []
    },
    {
      "cell_type": "code",
      "metadata": {
        "id": "wQNihdgZRzVf"
      },
      "source": [
        "#compile\n",
        "model.compile(optimizer='adam', loss='mean_squared_error')"
      ],
      "execution_count": null,
      "outputs": []
    },
    {
      "cell_type": "code",
      "metadata": {
        "colab": {
          "base_uri": "https://localhost:8080/"
        },
        "id": "akFefjn4SzjV",
        "outputId": "44b1db52-20a1-4f7a-aeb0-b9d405321a35"
      },
      "source": [
        "#train \n",
        "model.fit(x_train,y_train , batch_size=1,epochs=1)"
      ],
      "execution_count": null,
      "outputs": [
        {
          "output_type": "stream",
          "text": [
            "1745/1745 [==============================] - 43s 23ms/step - loss: 5.7218e-04\n"
          ],
          "name": "stdout"
        },
        {
          "output_type": "execute_result",
          "data": {
            "text/plain": [
              "<tensorflow.python.keras.callbacks.History at 0x7f142df661d0>"
            ]
          },
          "metadata": {
            "tags": []
          },
          "execution_count": 32
        }
      ]
    },
    {
      "cell_type": "code",
      "metadata": {
        "id": "g1oyrqehVFbu"
      },
      "source": [
        "#create the testing data set\n",
        "#Create a new array containing scaled value from  index 1543 to 2003\n",
        "test_data=scaled_data[train_rows_number-60: , :]\n",
        "#create x_test and y_test\n",
        "x_test=[]\n",
        "for i in range(60, len(test_data)):\n",
        "  x_test.append(test_data[i-60:i, 0])\n",
        "y_test= dataset[train_rows_number:, :]\n",
        "#Our pediction should be similar to y_test\n",
        "x_test"
      ],
      "execution_count": null,
      "outputs": []
    },
    {
      "cell_type": "code",
      "metadata": {
        "id": "C5S8-PylWFCd"
      },
      "source": [
        "#Convert the data into np array and reshape\n",
        "x_test=np.array(x_test)\n",
        "x_test= np.reshape(x_test,(x_test.shape[0],x_test.shape[1],1))"
      ],
      "execution_count": null,
      "outputs": []
    },
    {
      "cell_type": "code",
      "metadata": {
        "colab": {
          "base_uri": "https://localhost:8080/"
        },
        "id": "eC-ZWY0iWZH1",
        "outputId": "779fed31-8be1-4032-9cb3-ba39567af4ee"
      },
      "source": [
        "#Get the models predicted price values\n",
        "predictions=model.predict(x_test)\n",
        "predictions=scaler.inverse_transform(predictions)\n",
        "predictions"
      ],
      "execution_count": null,
      "outputs": [
        {
          "output_type": "execute_result",
          "data": {
            "text/plain": [
              "array([[ 42.22553 ],\n",
              "       [ 42.160957],\n",
              "       [ 42.24306 ],\n",
              "       [ 42.448822],\n",
              "       [ 42.721226],\n",
              "       [ 43.05241 ],\n",
              "       [ 43.439754],\n",
              "       [ 43.861893],\n",
              "       [ 44.212902],\n",
              "       [ 44.525383],\n",
              "       [ 44.9609  ],\n",
              "       [ 45.302433],\n",
              "       [ 45.490917],\n",
              "       [ 45.518764],\n",
              "       [ 45.49715 ],\n",
              "       [ 45.45505 ],\n",
              "       [ 45.438946],\n",
              "       [ 45.473263],\n",
              "       [ 45.605705],\n",
              "       [ 45.812275],\n",
              "       [ 46.04523 ],\n",
              "       [ 46.300602],\n",
              "       [ 46.6203  ],\n",
              "       [ 46.92047 ],\n",
              "       [ 47.204273],\n",
              "       [ 47.399284],\n",
              "       [ 47.51947 ],\n",
              "       [ 47.592087],\n",
              "       [ 47.629063],\n",
              "       [ 47.74508 ],\n",
              "       [ 47.908787],\n",
              "       [ 48.09782 ],\n",
              "       [ 48.357418],\n",
              "       [ 48.615288],\n",
              "       [ 48.791367],\n",
              "       [ 48.87504 ],\n",
              "       [ 48.90505 ],\n",
              "       [ 48.794926],\n",
              "       [ 48.88596 ],\n",
              "       [ 49.03547 ],\n",
              "       [ 49.272343],\n",
              "       [ 49.440716],\n",
              "       [ 49.402046],\n",
              "       [ 49.256092],\n",
              "       [ 49.00781 ],\n",
              "       [ 48.638386],\n",
              "       [ 47.94145 ],\n",
              "       [ 47.230564],\n",
              "       [ 46.654667],\n",
              "       [ 46.201572],\n",
              "       [ 45.84605 ],\n",
              "       [ 45.43386 ],\n",
              "       [ 45.137203],\n",
              "       [ 44.838654],\n",
              "       [ 44.495846],\n",
              "       [ 44.153107],\n",
              "       [ 43.832417],\n",
              "       [ 43.540783],\n",
              "       [ 43.325348],\n",
              "       [ 43.093258],\n",
              "       [ 42.834652],\n",
              "       [ 42.759155],\n",
              "       [ 42.86919 ],\n",
              "       [ 43.140953],\n",
              "       [ 43.601044],\n",
              "       [ 44.174717],\n",
              "       [ 44.80186 ],\n",
              "       [ 45.365753],\n",
              "       [ 45.824173],\n",
              "       [ 46.128426],\n",
              "       [ 46.338276],\n",
              "       [ 46.588238],\n",
              "       [ 46.8111  ],\n",
              "       [ 47.033943],\n",
              "       [ 47.20989 ],\n",
              "       [ 47.332676],\n",
              "       [ 47.32977 ],\n",
              "       [ 47.370728],\n",
              "       [ 47.42667 ],\n",
              "       [ 47.43638 ],\n",
              "       [ 47.51745 ],\n",
              "       [ 47.6585  ],\n",
              "       [ 47.861595],\n",
              "       [ 48.070156],\n",
              "       [ 48.14478 ],\n",
              "       [ 48.170586],\n",
              "       [ 48.21774 ],\n",
              "       [ 48.23044 ],\n",
              "       [ 48.26517 ],\n",
              "       [ 48.35841 ],\n",
              "       [ 48.453568],\n",
              "       [ 48.508606],\n",
              "       [ 48.597256],\n",
              "       [ 48.61028 ],\n",
              "       [ 48.705715],\n",
              "       [ 48.876183],\n",
              "       [ 49.063446],\n",
              "       [ 49.193874],\n",
              "       [ 49.297028],\n",
              "       [ 49.423565],\n",
              "       [ 49.522297],\n",
              "       [ 49.708744],\n",
              "       [ 49.794865],\n",
              "       [ 49.69922 ],\n",
              "       [ 49.22862 ],\n",
              "       [ 48.708614],\n",
              "       [ 48.273785],\n",
              "       [ 48.05603 ],\n",
              "       [ 47.920094],\n",
              "       [ 47.83675 ],\n",
              "       [ 48.02172 ],\n",
              "       [ 48.164597],\n",
              "       [ 48.245514],\n",
              "       [ 48.409664],\n",
              "       [ 48.70074 ],\n",
              "       [ 49.026478],\n",
              "       [ 49.394108],\n",
              "       [ 49.734142],\n",
              "       [ 49.753014],\n",
              "       [ 49.69804 ],\n",
              "       [ 49.54012 ],\n",
              "       [ 49.380985],\n",
              "       [ 49.332096],\n",
              "       [ 49.341537],\n",
              "       [ 49.30201 ],\n",
              "       [ 49.335953],\n",
              "       [ 49.514538],\n",
              "       [ 49.750416],\n",
              "       [ 50.015617],\n",
              "       [ 50.33311 ],\n",
              "       [ 50.825844],\n",
              "       [ 51.339283],\n",
              "       [ 51.68575 ],\n",
              "       [ 51.929962],\n",
              "       [ 52.10589 ],\n",
              "       [ 52.276268],\n",
              "       [ 52.371258],\n",
              "       [ 52.325848],\n",
              "       [ 52.235676],\n",
              "       [ 52.101395],\n",
              "       [ 52.05012 ],\n",
              "       [ 52.01837 ],\n",
              "       [ 51.974537],\n",
              "       [ 52.070194],\n",
              "       [ 52.24593 ],\n",
              "       [ 52.293854],\n",
              "       [ 52.31988 ],\n",
              "       [ 52.496143],\n",
              "       [ 52.73214 ],\n",
              "       [ 52.902084],\n",
              "       [ 53.08817 ],\n",
              "       [ 53.341084],\n",
              "       [ 53.7648  ],\n",
              "       [ 54.218876],\n",
              "       [ 54.62072 ],\n",
              "       [ 54.918243],\n",
              "       [ 55.145424],\n",
              "       [ 55.334023],\n",
              "       [ 55.587963],\n",
              "       [ 55.828102],\n",
              "       [ 56.119907],\n",
              "       [ 56.412533],\n",
              "       [ 56.751778],\n",
              "       [ 57.14034 ],\n",
              "       [ 57.348404],\n",
              "       [ 57.434593],\n",
              "       [ 57.59141 ],\n",
              "       [ 57.95654 ],\n",
              "       [ 58.4337  ],\n",
              "       [ 58.904762],\n",
              "       [ 59.31846 ],\n",
              "       [ 59.709057],\n",
              "       [ 60.055088],\n",
              "       [ 60.38923 ],\n",
              "       [ 60.665882],\n",
              "       [ 60.94562 ],\n",
              "       [ 61.138233],\n",
              "       [ 61.3467  ],\n",
              "       [ 61.571106],\n",
              "       [ 61.752777],\n",
              "       [ 61.803055],\n",
              "       [ 61.744183],\n",
              "       [ 61.62573 ],\n",
              "       [ 61.615875],\n",
              "       [ 61.605118],\n",
              "       [ 61.69786 ],\n",
              "       [ 61.817238],\n",
              "       [ 61.85315 ],\n",
              "       [ 61.71157 ],\n",
              "       [ 61.557156],\n",
              "       [ 61.51768 ],\n",
              "       [ 61.686058],\n",
              "       [ 61.84035 ],\n",
              "       [ 62.017574],\n",
              "       [ 62.247597],\n",
              "       [ 62.495483],\n",
              "       [ 62.824993],\n",
              "       [ 63.286175],\n",
              "       [ 63.77384 ],\n",
              "       [ 64.19685 ],\n",
              "       [ 64.53908 ],\n",
              "       [ 64.77543 ],\n",
              "       [ 65.04986 ],\n",
              "       [ 65.31137 ],\n",
              "       [ 65.69042 ],\n",
              "       [ 66.07664 ],\n",
              "       [ 66.46747 ],\n",
              "       [ 66.86899 ],\n",
              "       [ 67.411415],\n",
              "       [ 67.87275 ],\n",
              "       [ 68.30247 ],\n",
              "       [ 68.616035],\n",
              "       [ 68.96199 ],\n",
              "       [ 69.45617 ],\n",
              "       [ 69.981285],\n",
              "       [ 70.645386],\n",
              "       [ 71.17163 ],\n",
              "       [ 71.52356 ],\n",
              "       [ 71.844604],\n",
              "       [ 72.19876 ],\n",
              "       [ 72.45883 ],\n",
              "       [ 72.66901 ],\n",
              "       [ 72.86526 ],\n",
              "       [ 72.99956 ],\n",
              "       [ 72.81711 ],\n",
              "       [ 72.74486 ],\n",
              "       [ 72.91567 ],\n",
              "       [ 73.177956],\n",
              "       [ 73.05271 ],\n",
              "       [ 72.72842 ],\n",
              "       [ 72.622475],\n",
              "       [ 72.70808 ],\n",
              "       [ 72.9958  ],\n",
              "       [ 73.20886 ],\n",
              "       [ 73.407814],\n",
              "       [ 73.5156  ],\n",
              "       [ 73.77882 ],\n",
              "       [ 74.01554 ],\n",
              "       [ 74.215195],\n",
              "       [ 74.198395],\n",
              "       [ 74.20436 ],\n",
              "       [ 74.11724 ],\n",
              "       [ 73.788246],\n",
              "       [ 72.95431 ],\n",
              "       [ 71.681244],\n",
              "       [ 70.46628 ],\n",
              "       [ 68.886795],\n",
              "       [ 67.33118 ],\n",
              "       [ 66.69729 ],\n",
              "       [ 66.357376],\n",
              "       [ 66.62694 ],\n",
              "       [ 66.914474],\n",
              "       [ 67.08834 ],\n",
              "       [ 66.54254 ],\n",
              "       [ 66.23167 ],\n",
              "       [ 65.78061 ],\n",
              "       [ 64.56424 ],\n",
              "       [ 63.935646],\n",
              "       [ 62.673336],\n",
              "       [ 61.56045 ],\n",
              "       [ 60.479313],\n",
              "       [ 59.507088],\n",
              "       [ 58.29217 ],\n",
              "       [ 56.977394],\n",
              "       [ 56.3879  ],\n",
              "       [ 56.21802 ],\n",
              "       [ 56.66721 ],\n",
              "       [ 57.107056],\n",
              "       [ 57.69689 ],\n",
              "       [ 58.276184],\n",
              "       [ 58.41029 ],\n",
              "       [ 58.399986],\n",
              "       [ 58.20321 ],\n",
              "       [ 58.505653],\n",
              "       [ 58.94237 ],\n",
              "       [ 59.589096],\n",
              "       [ 60.318855],\n",
              "       [ 61.148216],\n",
              "       [ 62.3073  ],\n",
              "       [ 63.41762 ],\n",
              "       [ 64.42888 ],\n",
              "       [ 65.14367 ],\n",
              "       [ 65.439995],\n",
              "       [ 65.22813 ],\n",
              "       [ 64.98038 ],\n",
              "       [ 64.697815],\n",
              "       [ 64.65371 ],\n",
              "       [ 64.74356 ],\n",
              "       [ 64.770996],\n",
              "       [ 65.024185],\n",
              "       [ 65.53089 ],\n",
              "       [ 65.97859 ],\n",
              "       [ 66.4616  ],\n",
              "       [ 67.022316],\n",
              "       [ 67.6375  ],\n",
              "       [ 68.290306],\n",
              "       [ 69.05865 ],\n",
              "       [ 69.923836],\n",
              "       [ 70.625175],\n",
              "       [ 71.04486 ],\n",
              "       [ 71.31075 ],\n",
              "       [ 71.39847 ],\n",
              "       [ 71.58198 ],\n",
              "       [ 71.7303  ],\n",
              "       [ 72.01675 ],\n",
              "       [ 72.26612 ],\n",
              "       [ 72.52648 ],\n",
              "       [ 72.695015],\n",
              "       [ 72.83419 ],\n",
              "       [ 72.94062 ],\n",
              "       [ 73.00644 ],\n",
              "       [ 73.15345 ],\n",
              "       [ 73.36334 ],\n",
              "       [ 73.63141 ],\n",
              "       [ 73.816185],\n",
              "       [ 74.19884 ],\n",
              "       [ 74.683464],\n",
              "       [ 75.46372 ],\n",
              "       [ 76.54664 ],\n",
              "       [ 77.16057 ],\n",
              "       [ 77.5501  ],\n",
              "       [ 77.874146],\n",
              "       [ 78.37077 ],\n",
              "       [ 78.86724 ],\n",
              "       [ 79.30544 ],\n",
              "       [ 79.59545 ],\n",
              "       [ 80.03203 ],\n",
              "       [ 80.69563 ],\n",
              "       [ 81.19891 ],\n",
              "       [ 81.7009  ],\n",
              "       [ 81.80082 ],\n",
              "       [ 81.92209 ],\n",
              "       [ 82.10587 ],\n",
              "       [ 82.27447 ],\n",
              "       [ 82.41476 ],\n",
              "       [ 82.80366 ],\n",
              "       [ 83.22679 ],\n",
              "       [ 83.871925],\n",
              "       [ 84.58724 ],\n",
              "       [ 85.26737 ],\n",
              "       [ 85.78713 ],\n",
              "       [ 86.337555],\n",
              "       [ 86.895065],\n",
              "       [ 87.236786],\n",
              "       [ 87.401054],\n",
              "       [ 87.68095 ],\n",
              "       [ 87.80829 ],\n",
              "       [ 87.87895 ],\n",
              "       [ 87.386536],\n",
              "       [ 86.65855 ],\n",
              "       [ 86.14608 ],\n",
              "       [ 85.61617 ],\n",
              "       [ 85.37118 ],\n",
              "       [ 85.43591 ],\n",
              "       [ 86.836205],\n",
              "       [ 89.028305],\n",
              "       [ 91.45196 ],\n",
              "       [ 93.734825],\n",
              "       [ 96.08964 ],\n",
              "       [ 97.79858 ],\n",
              "       [ 99.13911 ],\n",
              "       [ 99.66888 ],\n",
              "       [100.13679 ],\n",
              "       [100.68911 ],\n",
              "       [101.17229 ],\n",
              "       [101.51343 ],\n",
              "       [101.84221 ],\n",
              "       [102.1213  ],\n",
              "       [102.63725 ],\n",
              "       [103.90991 ],\n",
              "       [105.537506],\n",
              "       [107.00942 ],\n",
              "       [108.4166  ],\n",
              "       [109.39283 ],\n",
              "       [109.99196 ],\n",
              "       [110.80391 ],\n",
              "       [112.17601 ],\n",
              "       [113.26755 ],\n",
              "       [112.83609 ],\n",
              "       [111.770836],\n",
              "       [109.50207 ],\n",
              "       [107.50871 ],\n",
              "       [105.39744 ],\n",
              "       [103.37762 ],\n",
              "       [102.09618 ],\n",
              "       [101.37937 ],\n",
              "       [100.680244],\n",
              "       [ 99.92869 ],\n",
              "       [ 98.86335 ],\n",
              "       [ 98.19723 ],\n",
              "       [ 98.01107 ],\n",
              "       [ 97.55195 ],\n",
              "       [ 97.19665 ],\n",
              "       [ 97.41494 ],\n",
              "       [ 98.199524],\n",
              "       [ 99.070694],\n",
              "       [100.09627 ],\n",
              "       [101.16925 ],\n",
              "       [101.6668  ],\n",
              "       [102.2349  ],\n",
              "       [102.318085],\n",
              "       [102.38601 ],\n",
              "       [102.39044 ],\n",
              "       [102.59396 ],\n",
              "       [103.73782 ],\n",
              "       [104.765854],\n",
              "       [105.651405],\n",
              "       [106.27745 ],\n",
              "       [106.476135],\n",
              "       [106.06452 ],\n",
              "       [105.583305],\n",
              "       [105.02191 ],\n",
              "       [104.36231 ],\n",
              "       [103.66334 ],\n",
              "       [103.04413 ],\n",
              "       [102.73615 ],\n",
              "       [101.98281 ],\n",
              "       [101.64481 ],\n",
              "       [100.761925],\n",
              "       [ 99.76906 ],\n",
              "       [ 99.04207 ],\n",
              "       [ 99.07577 ],\n",
              "       [ 99.96608 ],\n",
              "       [101.13862 ],\n",
              "       [102.04685 ],\n",
              "       [102.67928 ],\n",
              "       [103.495605],\n",
              "       [104.225296],\n",
              "       [104.81892 ],\n",
              "       [105.37734 ],\n",
              "       [105.71503 ],\n",
              "       [105.73017 ],\n",
              "       [105.648186],\n",
              "       [105.353226],\n",
              "       [104.57578 ],\n",
              "       [103.83089 ],\n",
              "       [103.28162 ],\n",
              "       [102.969635],\n",
              "       [103.119774],\n",
              "       [103.91786 ],\n",
              "       [104.97415 ],\n",
              "       [106.020805],\n",
              "       [106.845924],\n",
              "       [107.62629 ],\n",
              "       [108.3301  ],\n",
              "       [108.57573 ],\n",
              "       [108.739914],\n",
              "       [108.71016 ],\n",
              "       [108.50844 ],\n",
              "       [108.97131 ],\n",
              "       [109.64628 ]], dtype=float32)"
            ]
          },
          "metadata": {
            "tags": []
          },
          "execution_count": 35
        }
      ]
    },
    {
      "cell_type": "code",
      "metadata": {
        "colab": {
          "base_uri": "https://localhost:8080/"
        },
        "id": "XmfMNBA2XQkc",
        "outputId": "6e53e3eb-d5b6-4ff8-8c5a-16384f2c82ea"
      },
      "source": [
        "#Get the root mean squared error(RMSE)\n",
        "from sklearn.metrics import mean_squared_error\n",
        "mse = mean_squared_error(y_test, predictions)\n",
        "rmse=math.sqrt(mse)\n",
        "# rmse=np.sqrt(np.mean((predictions - y_test)**2))\n",
        "rmse"
      ],
      "execution_count": null,
      "outputs": [
        {
          "output_type": "execute_result",
          "data": {
            "text/plain": [
              "8.506508114331103"
            ]
          },
          "metadata": {
            "tags": []
          },
          "execution_count": 36
        }
      ]
    },
    {
      "cell_type": "markdown",
      "metadata": {
        "id": "3nfTpQWwYOcm"
      },
      "source": [
        "the lower the rmse the better zero is considered as perfections"
      ]
    },
    {
      "cell_type": "code",
      "metadata": {
        "id": "yGkNrGfNYFXD",
        "colab": {
          "base_uri": "https://localhost:8080/",
          "height": 665
        },
        "outputId": "d533d7cc-40cc-4e4d-a269-d5990bd0e0df"
      },
      "source": [
        "#Plot the data\n",
        "train=data[:train_rows_number]\n",
        "valid=data[train_rows_number:]\n",
        "valid['Predictions']=predictions # Giving valid another column and setting it equal to prediction\n",
        "#Visualize the data\n",
        "plt.figure(figsize=(16,8))\n",
        "plt.title('Model')\n",
        "plt.xlabel('Date',fontsize=18)\n",
        "plt.ylabel('Close Price', fontsize=18)\n",
        "plt.plot(train['Close'])\n",
        "plt.plot(valid[['Close', 'Predictions']])\n",
        "plt.legend(['Train', 'Val', 'Predictions'], loc='lower right')\n",
        "plt.show()"
      ],
      "execution_count": null,
      "outputs": [
        {
          "output_type": "stream",
          "text": [
            "/usr/local/lib/python3.7/dist-packages/ipykernel_launcher.py:4: SettingWithCopyWarning: \n",
            "A value is trying to be set on a copy of a slice from a DataFrame.\n",
            "Try using .loc[row_indexer,col_indexer] = value instead\n",
            "\n",
            "See the caveats in the documentation: https://pandas.pydata.org/pandas-docs/stable/user_guide/indexing.html#returning-a-view-versus-a-copy\n",
            "  after removing the cwd from sys.path.\n"
          ],
          "name": "stderr"
        },
        {
          "output_type": "display_data",
          "data": {
            "image/png": "[encoded data removed]",
            "text/plain": [
              "<Figure size 1152x576 with 1 Axes>"
            ]
          },
          "metadata": {
            "tags": []
          }
        }
      ]
    },
    {
      "cell_type": "code",
      "metadata": {
        "colab": {
          "base_uri": "https://localhost:8080/",
          "height": 428
        },
        "id": "UTVJgCGLc9ly",
        "outputId": "76fd816e-5f52-4405-b583-c71f037234f2"
      },
      "source": [
        "#Show the actual and predicted prices\n",
        "valid"
      ],
      "execution_count": null,
      "outputs": [
        {
          "output_type": "execute_result",
          "data": {
            "text/html": [
              "<div>\n",
              "<style scoped>\n",
              "    .dataframe tbody tr th:only-of-type {\n",
              "        vertical-align: middle;\n",
              "    }\n",
              "\n",
              "    .dataframe tbody tr th {\n",
              "        vertical-align: top;\n",
              "    }\n",
              "\n",
              "    .dataframe thead th {\n",
              "        text-align: right;\n",
              "    }\n",
              "</style>\n",
              "<table border=\"1\" class=\"dataframe\">\n",
              "  <thead>\n",
              "    <tr style=\"text-align: right;\">\n",
              "      <th></th>\n",
              "      <th>Close</th>\n",
              "      <th>Predictions</th>\n",
              "    </tr>\n",
              "    <tr>\n",
              "      <th>Date</th>\n",
              "      <th></th>\n",
              "      <th></th>\n",
              "    </tr>\n",
              "  </thead>\n",
              "  <tbody>\n",
              "    <tr>\n",
              "      <th>2019-03-08</th>\n",
              "      <td>43.227501</td>\n",
              "      <td>42.225529</td>\n",
              "    </tr>\n",
              "    <tr>\n",
              "      <th>2019-03-11</th>\n",
              "      <td>44.724998</td>\n",
              "      <td>42.160957</td>\n",
              "    </tr>\n",
              "    <tr>\n",
              "      <th>2019-03-12</th>\n",
              "      <td>45.227501</td>\n",
              "      <td>42.243061</td>\n",
              "    </tr>\n",
              "    <tr>\n",
              "      <th>2019-03-13</th>\n",
              "      <td>45.427502</td>\n",
              "      <td>42.448822</td>\n",
              "    </tr>\n",
              "    <tr>\n",
              "      <th>2019-03-14</th>\n",
              "      <td>45.932499</td>\n",
              "      <td>42.721226</td>\n",
              "    </tr>\n",
              "    <tr>\n",
              "      <th>...</th>\n",
              "      <td>...</td>\n",
              "      <td>...</td>\n",
              "    </tr>\n",
              "    <tr>\n",
              "      <th>2020-12-11</th>\n",
              "      <td>122.410004</td>\n",
              "      <td>108.739914</td>\n",
              "    </tr>\n",
              "    <tr>\n",
              "      <th>2020-12-14</th>\n",
              "      <td>121.779999</td>\n",
              "      <td>108.710159</td>\n",
              "    </tr>\n",
              "    <tr>\n",
              "      <th>2020-12-15</th>\n",
              "      <td>127.879997</td>\n",
              "      <td>108.508438</td>\n",
              "    </tr>\n",
              "    <tr>\n",
              "      <th>2020-12-16</th>\n",
              "      <td>127.809998</td>\n",
              "      <td>108.971313</td>\n",
              "    </tr>\n",
              "    <tr>\n",
              "      <th>2020-12-17</th>\n",
              "      <td>128.699997</td>\n",
              "      <td>109.646278</td>\n",
              "    </tr>\n",
              "  </tbody>\n",
              "</table>\n",
              "<p>451 rows × 2 columns</p>\n",
              "</div>"
            ],
            "text/plain": [
              "                 Close  Predictions\n",
              "Date                               \n",
              "2019-03-08   43.227501    42.225529\n",
              "2019-03-11   44.724998    42.160957\n",
              "2019-03-12   45.227501    42.243061\n",
              "2019-03-13   45.427502    42.448822\n",
              "2019-03-14   45.932499    42.721226\n",
              "...                ...          ...\n",
              "2020-12-11  122.410004   108.739914\n",
              "2020-12-14  121.779999   108.710159\n",
              "2020-12-15  127.879997   108.508438\n",
              "2020-12-16  127.809998   108.971313\n",
              "2020-12-17  128.699997   109.646278\n",
              "\n",
              "[451 rows x 2 columns]"
            ]
          },
          "metadata": {
            "tags": []
          },
          "execution_count": 40
        }
      ]
    },
    {
      "cell_type": "code",
      "metadata": {
        "colab": {
          "base_uri": "https://localhost:8080/"
        },
        "id": "SEU0E9r3dDzx",
        "outputId": "8e6c8f46-7638-4e73-8b3c-77cc6be36240"
      },
      "source": [
        "#Get the quote\n",
        "data_quote=web.DataReader('AAPL', data_source='yahoo', start=datetime(2012,1,1), end=datetime(2019,12,17))\n",
        "#Create a new data frame\n",
        "new_df=data_quote.filter(['Close'])\n",
        "#Get last 60 day closing price values \n",
        "last_60_days=new_df[-60:]\n",
        "# convert dataframe into an array\n",
        "last_60_days=last_60_days.values\n",
        "#Scale the data\n",
        "last_60_days_scaled=scaler.transform(last_60_days)\n",
        "#Create an empty list and append the scaled values in it\n",
        "X_test=[]\n",
        "X_test.append(last_60_days_scaled)\n",
        "#Convert into a np array\n",
        "X_test=np.array(X_test)\n",
        "#reshape the array to train on LSTM\n",
        "X_test=np.reshape(X_test,(X_test.shape[0],X_test.shape[1],1))\n",
        "#Get the predictions\n",
        "pred_price=model.predict(X_test);\n",
        "#Get the unscaled predictions\n",
        "pred_price=scaler.inverse_transform(pred_price)\n",
        "print(pred_price)\n"
      ],
      "execution_count": null,
      "outputs": [
        {
          "output_type": "stream",
          "text": [
            "[[63.77385]]\n"
          ],
          "name": "stdout"
        }
      ]
    },
    {
      "cell_type": "code",
      "metadata": {
        "colab": {
          "base_uri": "https://localhost:8080/"
        },
        "id": "ey1ijhTMhmvV",
        "outputId": "47cbd2cd-c7cb-4a9b-b472-00d83e1701a8"
      },
      "source": [
        "data_quote2=web.DataReader('AAPL', data_source='yahoo', start=datetime(2019,12,18), end=datetime(2019,12,18))\n",
        "data_quote2['Close']"
      ],
      "execution_count": null,
      "outputs": [
        {
          "output_type": "execute_result",
          "data": {
            "text/plain": [
              "Date\n",
              "2019-12-18    69.934998\n",
              "Name: Close, dtype: float64"
            ]
          },
          "metadata": {
            "tags": []
          },
          "execution_count": 51
        }
      ]
    }
  ]
}